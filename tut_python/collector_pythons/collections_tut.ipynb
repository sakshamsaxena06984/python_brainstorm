{
 "cells": [
  {
   "cell_type": "code",
   "execution_count": 3,
   "id": "186e0568-f123-45ea-9fc0-8d0bb46f0aca",
   "metadata": {},
   "outputs": [
    {
     "data": {
      "text/plain": [
       "[1, 2, 3, 4, 3, 4, 2, 2, 2, 2, 4]"
      ]
     },
     "execution_count": 3,
     "metadata": {},
     "output_type": "execute_result"
    }
   ],
   "source": [
    "a = [1,2,3,4,3,4,2,2,2,2,4]\n",
    "a"
   ]
  },
  {
   "cell_type": "code",
   "execution_count": 4,
   "id": "90457f57-a493-4174-8885-5430258b7e4c",
   "metadata": {},
   "outputs": [
    {
     "data": {
      "text/plain": [
       "[1, 2, 3, 4, 3, 4, 2, 2, 2, 2, 4]"
      ]
     },
     "execution_count": 4,
     "metadata": {},
     "output_type": "execute_result"
    }
   ],
   "source": [
    "a"
   ]
  },
  {
   "cell_type": "raw",
   "id": "8447f19e-1ede-4634-bb17-17b3950d65d8",
   "metadata": {},
   "source": [
    "Counter of collection is use for creating dictinary over the python array, which maintain \n",
    "occurance of list elements"
   ]
  },
  {
   "cell_type": "code",
   "execution_count": 5,
   "id": "8d23ec50-fc7c-4313-abb5-b0f812d2272d",
   "metadata": {},
   "outputs": [],
   "source": [
    "from collections import Counter"
   ]
  },
  {
   "cell_type": "code",
   "execution_count": 7,
   "id": "802e8af6-4b43-496a-a811-4008ebc45a0e",
   "metadata": {},
   "outputs": [],
   "source": [
    "c = Counter(a)"
   ]
  },
  {
   "cell_type": "code",
   "execution_count": 8,
   "id": "d53e219a-ec80-45b2-a3cc-7b286ea59ec3",
   "metadata": {},
   "outputs": [
    {
     "data": {
      "text/plain": [
       "Counter({2: 5, 4: 3, 3: 2, 1: 1})"
      ]
     },
     "execution_count": 8,
     "metadata": {},
     "output_type": "execute_result"
    }
   ],
   "source": [
    "c"
   ]
  },
  {
   "cell_type": "code",
   "execution_count": 10,
   "id": "0cf65d88-9ed4-487c-813a-fd0dcbc8e476",
   "metadata": {},
   "outputs": [
    {
     "data": {
      "text/plain": [
       "5"
      ]
     },
     "execution_count": 10,
     "metadata": {},
     "output_type": "execute_result"
    }
   ],
   "source": [
    "c[2]"
   ]
  },
  {
   "cell_type": "code",
   "execution_count": 11,
   "id": "362adc2f-8302-4e7e-b9be-36ffc1226daf",
   "metadata": {},
   "outputs": [
    {
     "data": {
      "text/plain": [
       "1"
      ]
     },
     "execution_count": 11,
     "metadata": {},
     "output_type": "execute_result"
    }
   ],
   "source": [
    "c[1]"
   ]
  },
  {
   "cell_type": "code",
   "execution_count": 12,
   "id": "02d51f9d-2738-4666-8007-a14194a1a68c",
   "metadata": {},
   "outputs": [
    {
     "data": {
      "text/plain": [
       "0"
      ]
     },
     "execution_count": 12,
     "metadata": {},
     "output_type": "execute_result"
    }
   ],
   "source": [
    "c[9]"
   ]
  },
  {
   "cell_type": "markdown",
   "id": "652cb405-e5b2-4768-b766-38a64240aa17",
   "metadata": {},
   "source": [
    "## Defaultdict"
   ]
  },
  {
   "cell_type": "code",
   "execution_count": 13,
   "id": "c5f16cf2-df14-4170-9d9e-8aed2cce4387",
   "metadata": {},
   "outputs": [
    {
     "data": {
      "text/plain": [
       "{'I': 1, 'n': 2, 'd': 1, 'i': 2, 'a': 1, 'W': 1}"
      ]
     },
     "execution_count": 13,
     "metadata": {},
     "output_type": "execute_result"
    }
   ],
   "source": [
    "str_name=\"IndiaWin\"\n",
    "d={}\n",
    "for c in str_name:\n",
    "    if c not in d:\n",
    "        d[c]=1\n",
    "    else:\n",
    "        d[c]+=1\n",
    "d"
   ]
  },
  {
   "cell_type": "code",
   "execution_count": 15,
   "id": "1a5603ae-abdc-45a8-8319-6f8999719e70",
   "metadata": {},
   "outputs": [],
   "source": [
    "from collections import defaultdict\n",
    "f = defaultdict(int)"
   ]
  },
  {
   "cell_type": "code",
   "execution_count": 16,
   "id": "20b3a833-9ce0-4a78-bf07-fef59a923e25",
   "metadata": {},
   "outputs": [
    {
     "data": {
      "text/plain": [
       "defaultdict(int, {})"
      ]
     },
     "execution_count": 16,
     "metadata": {},
     "output_type": "execute_result"
    }
   ],
   "source": [
    "f"
   ]
  },
  {
   "cell_type": "code",
   "execution_count": 17,
   "id": "0807cb0e-b757-431b-8636-705487bc74d0",
   "metadata": {},
   "outputs": [],
   "source": [
    "for ele in str_name:\n",
    "    f[ele]+=1"
   ]
  },
  {
   "cell_type": "code",
   "execution_count": 18,
   "id": "fa3d3b49-abeb-4198-b97e-d546db5807d9",
   "metadata": {},
   "outputs": [
    {
     "data": {
      "text/plain": [
       "'IndiaWin'"
      ]
     },
     "execution_count": 18,
     "metadata": {},
     "output_type": "execute_result"
    }
   ],
   "source": [
    "str_name"
   ]
  },
  {
   "cell_type": "raw",
   "id": "d1361672-38d5-46f8-b689-77e537fe9bfc",
   "metadata": {},
   "source": [
    "defaultdict from collections is use for creating dictinary with the help string."
   ]
  },
  {
   "cell_type": "code",
   "execution_count": 20,
   "id": "019ed181-c9c5-4fb7-9a3e-80f3743d338a",
   "metadata": {},
   "outputs": [],
   "source": [
    "# if you want to assign, default from 0 to another, then syntax will be\n",
    "f1 = defaultdict(lambda: 3)"
   ]
  },
  {
   "cell_type": "code",
   "execution_count": 21,
   "id": "131a60bf-34f4-4da0-a716-ef18f0ea040f",
   "metadata": {},
   "outputs": [
    {
     "data": {
      "text/plain": [
       "3"
      ]
     },
     "execution_count": 21,
     "metadata": {},
     "output_type": "execute_result"
    }
   ],
   "source": [
    "f1['w']"
   ]
  },
  {
   "cell_type": "code",
   "execution_count": 22,
   "id": "64c3bc9e-ea97-4052-81c4-7fda049ca163",
   "metadata": {},
   "outputs": [
    {
     "data": {
      "text/plain": [
       "0"
      ]
     },
     "execution_count": 22,
     "metadata": {},
     "output_type": "execute_result"
    }
   ],
   "source": [
    "f['l']"
   ]
  },
  {
   "cell_type": "code",
   "execution_count": 23,
   "id": "e0d3ff85-93ae-41fe-b505-d2f7829c21ec",
   "metadata": {},
   "outputs": [
    {
     "data": {
      "text/plain": [
       "defaultdict(<function __main__.<lambda>()>, {'w': 3})"
      ]
     },
     "execution_count": 23,
     "metadata": {},
     "output_type": "execute_result"
    }
   ],
   "source": [
    "f1"
   ]
  },
  {
   "cell_type": "markdown",
   "id": "ae49896e-20f9-4a3b-99c7-183cab4756fb",
   "metadata": {},
   "source": [
    "## OrderedDict"
   ]
  },
  {
   "cell_type": "code",
   "execution_count": 31,
   "id": "2cdcd59c-b99f-4746-8c00-eb4e5de01c8e",
   "metadata": {},
   "outputs": [],
   "source": [
    "scores = [('Nikhil',3),('Rohan',7),('Manish',8),('Ram',10)]"
   ]
  },
  {
   "cell_type": "code",
   "execution_count": 33,
   "id": "d9b079cf-8fde-4047-99c9-00a703d86d0f",
   "metadata": {},
   "outputs": [
    {
     "data": {
      "text/plain": [
       "{'Nikhil': 3, 'Rohan': 7, 'Manish': 8, 'Ram': 10}"
      ]
     },
     "execution_count": 33,
     "metadata": {},
     "output_type": "execute_result"
    }
   ],
   "source": [
    "d = {}\n",
    "for name,score in scores:\n",
    "    d[name]=score\n",
    "d\n",
    "# type(scores[0])"
   ]
  },
  {
   "cell_type": "code",
   "execution_count": 34,
   "id": "15f2f21d-6d62-4d64-9166-84942a1559c9",
   "metadata": {},
   "outputs": [
    {
     "data": {
      "text/plain": [
       "{'Nikhil': 3, 'Rohan': 7, 'Manish': 8, 'Ram': 10}"
      ]
     },
     "execution_count": 34,
     "metadata": {},
     "output_type": "execute_result"
    }
   ],
   "source": [
    "d"
   ]
  },
  {
   "cell_type": "code",
   "execution_count": 35,
   "id": "d5b6bb80-43e3-4972-a8fa-229c19e62c17",
   "metadata": {},
   "outputs": [
    {
     "data": {
      "text/plain": [
       "dict_keys(['Nikhil', 'Rohan', 'Manish', 'Ram'])"
      ]
     },
     "execution_count": 35,
     "metadata": {},
     "output_type": "execute_result"
    }
   ],
   "source": [
    "d.keys()"
   ]
  },
  {
   "cell_type": "code",
   "execution_count": 36,
   "id": "3e90979b-8857-473a-971e-d4d185e344a7",
   "metadata": {},
   "outputs": [
    {
     "data": {
      "text/plain": [
       "dict_values([3, 7, 8, 10])"
      ]
     },
     "execution_count": 36,
     "metadata": {},
     "output_type": "execute_result"
    }
   ],
   "source": [
    "d.values()"
   ]
  },
  {
   "cell_type": "code",
   "execution_count": 37,
   "id": "02914739-0181-4216-a303-7ba29a13f21f",
   "metadata": {},
   "outputs": [],
   "source": [
    "from collections import OrderedDict"
   ]
  },
  {
   "cell_type": "code",
   "execution_count": 39,
   "id": "56c282ec-341d-42a9-ab96-5065a6cb086d",
   "metadata": {},
   "outputs": [],
   "source": [
    "odict = OrderedDict(scores)"
   ]
  },
  {
   "cell_type": "code",
   "execution_count": 40,
   "id": "4a742ffb-19e2-4d02-b1a1-349fd1648f85",
   "metadata": {},
   "outputs": [
    {
     "data": {
      "text/plain": [
       "OrderedDict([('Nikhil', 3), ('Rohan', 7), ('Manish', 8), ('Ram', 10)])"
      ]
     },
     "execution_count": 40,
     "metadata": {},
     "output_type": "execute_result"
    }
   ],
   "source": [
    "odict"
   ]
  },
  {
   "cell_type": "code",
   "execution_count": 42,
   "id": "5591d367-7145-49e2-941a-f32e75303818",
   "metadata": {},
   "outputs": [
    {
     "data": {
      "text/plain": [
       "collections.OrderedDict"
      ]
     },
     "execution_count": 42,
     "metadata": {},
     "output_type": "execute_result"
    }
   ],
   "source": [
    "type(odict)"
   ]
  },
  {
   "cell_type": "code",
   "execution_count": 45,
   "id": "c3bdf36c-a890-4e3c-bb9b-e149b1db8537",
   "metadata": {},
   "outputs": [
    {
     "data": {
      "text/plain": [
       "<function OrderedDict.values>"
      ]
     },
     "execution_count": 45,
     "metadata": {},
     "output_type": "execute_result"
    }
   ],
   "source": [
    "odict.values"
   ]
  },
  {
   "cell_type": "code",
   "execution_count": 46,
   "id": "e2498a50-317d-4d8e-9b39-3d6ef716ebd7",
   "metadata": {},
   "outputs": [
    {
     "data": {
      "text/plain": [
       "3"
      ]
     },
     "execution_count": 46,
     "metadata": {},
     "output_type": "execute_result"
    }
   ],
   "source": [
    "odict['Nikhil']"
   ]
  },
  {
   "cell_type": "markdown",
   "id": "0a757270-7a62-4995-8001-6d713aea2cd7",
   "metadata": {},
   "source": [
    "## ChainMap"
   ]
  },
  {
   "cell_type": "code",
   "execution_count": 47,
   "id": "01a77135-aa56-4e69-929e-ef2a0feab009",
   "metadata": {},
   "outputs": [],
   "source": [
    "dict1 = {'a':1,'b':2,'c':3}\n",
    "dict2 = {'c':4,'d':5,'e':5}"
   ]
  },
  {
   "cell_type": "code",
   "execution_count": 48,
   "id": "41b1967b-45c0-41eb-920b-5cc5d8b9438f",
   "metadata": {},
   "outputs": [],
   "source": [
    "from collections import ChainMap"
   ]
  },
  {
   "cell_type": "code",
   "execution_count": 49,
   "id": "0cee18b7-173e-40c3-9e23-f8884963f405",
   "metadata": {},
   "outputs": [],
   "source": [
    "d_chain = ChainMap(dict1,dict2)"
   ]
  },
  {
   "cell_type": "code",
   "execution_count": 50,
   "id": "ce64edb8-767c-4f5b-8552-331576917c89",
   "metadata": {},
   "outputs": [
    {
     "data": {
      "text/plain": [
       "collections.ChainMap"
      ]
     },
     "execution_count": 50,
     "metadata": {},
     "output_type": "execute_result"
    }
   ],
   "source": [
    "type(d_chain)"
   ]
  },
  {
   "cell_type": "code",
   "execution_count": 51,
   "id": "10f1786a-83d9-442d-a801-7ef5475daffb",
   "metadata": {},
   "outputs": [
    {
     "data": {
      "text/plain": [
       "1"
      ]
     },
     "execution_count": 51,
     "metadata": {},
     "output_type": "execute_result"
    }
   ],
   "source": [
    "d_chain['a']"
   ]
  },
  {
   "cell_type": "code",
   "execution_count": 52,
   "id": "6953147c-cdcb-4e24-b334-e023a94cfbb8",
   "metadata": {},
   "outputs": [
    {
     "data": {
      "text/plain": [
       "ChainMap({'a': 1, 'b': 2, 'c': 3}, {'c': 4, 'd': 5, 'e': 5})"
      ]
     },
     "execution_count": 52,
     "metadata": {},
     "output_type": "execute_result"
    }
   ],
   "source": [
    "d_chain"
   ]
  },
  {
   "cell_type": "code",
   "execution_count": 53,
   "id": "cc34234d-7314-4c76-90b5-aab98bed73a0",
   "metadata": {},
   "outputs": [
    {
     "data": {
      "text/plain": [
       "5"
      ]
     },
     "execution_count": 53,
     "metadata": {},
     "output_type": "execute_result"
    }
   ],
   "source": [
    "d_chain['d']"
   ]
  },
  {
   "cell_type": "code",
   "execution_count": 54,
   "id": "5c099894-fb68-48eb-a17b-ed8925d0f705",
   "metadata": {},
   "outputs": [
    {
     "data": {
      "text/plain": [
       "[{'a': 1, 'b': 2, 'c': 3}, {'c': 4, 'd': 5, 'e': 5}]"
      ]
     },
     "execution_count": 54,
     "metadata": {},
     "output_type": "execute_result"
    }
   ],
   "source": [
    "d_chain.maps"
   ]
  },
  {
   "cell_type": "code",
   "execution_count": 55,
   "id": "6a41e96c-24b4-4a9f-b77b-236cb5b53789",
   "metadata": {},
   "outputs": [
    {
     "data": {
      "text/plain": [
       "ValuesView(ChainMap({'a': 1, 'b': 2, 'c': 3}, {'c': 4, 'd': 5, 'e': 5}))"
      ]
     },
     "execution_count": 55,
     "metadata": {},
     "output_type": "execute_result"
    }
   ],
   "source": [
    "d_chain.values()"
   ]
  },
  {
   "cell_type": "code",
   "execution_count": 56,
   "id": "ee789518-ff33-4c76-98cd-fb16bdc5daa7",
   "metadata": {},
   "outputs": [
    {
     "data": {
      "text/plain": [
       "KeysView(ChainMap({'a': 1, 'b': 2, 'c': 3}, {'c': 4, 'd': 5, 'e': 5}))"
      ]
     },
     "execution_count": 56,
     "metadata": {},
     "output_type": "execute_result"
    }
   ],
   "source": [
    "d_chain.keys()"
   ]
  },
  {
   "cell_type": "code",
   "execution_count": 57,
   "id": "db3dbe21-9cd1-4c35-a991-3ef512bcc272",
   "metadata": {},
   "outputs": [],
   "source": [
    "d_chain_v1=d_chain.new_child({'e':2,'l':4})"
   ]
  },
  {
   "cell_type": "code",
   "execution_count": 58,
   "id": "4db42d7b-af20-44a8-91d1-d42a7d040d79",
   "metadata": {},
   "outputs": [
    {
     "data": {
      "text/plain": [
       "ChainMap({'e': 2, 'l': 4}, {'a': 1, 'b': 2, 'c': 3}, {'c': 4, 'd': 5, 'e': 5})"
      ]
     },
     "execution_count": 58,
     "metadata": {},
     "output_type": "execute_result"
    }
   ],
   "source": [
    "d_chain_v1"
   ]
  },
  {
   "cell_type": "code",
   "execution_count": null,
   "id": "3a9f8a50-78ee-4170-a7f6-9ff3be0ccf01",
   "metadata": {},
   "outputs": [],
   "source": [
    "# https://www.youtube.com/watch?v=AdVODwuOEeg&list=PLMfAHlb5o1xGe4V0ZGWzYKtDkA9ey5g4a&index=2\n",
    "# https://www.youtube.com/watch?v=aYmcRnmZVGQ&list=PL9n0l8rSshSnragNblKDBsT8Xu3otp3jA"
   ]
  }
 ],
 "metadata": {
  "kernelspec": {
   "display_name": "Python 3 (ipykernel)",
   "language": "python",
   "name": "python3"
  },
  "language_info": {
   "codemirror_mode": {
    "name": "ipython",
    "version": 3
   },
   "file_extension": ".py",
   "mimetype": "text/x-python",
   "name": "python",
   "nbconvert_exporter": "python",
   "pygments_lexer": "ipython3",
   "version": "3.12.2"
  }
 },
 "nbformat": 4,
 "nbformat_minor": 5
}
